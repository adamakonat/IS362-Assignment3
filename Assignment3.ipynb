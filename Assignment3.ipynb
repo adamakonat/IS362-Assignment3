{
  "metadata": {
    "language_info": {
      "codemirror_mode": {
        "name": "python",
        "version": 3
      },
      "file_extension": ".py",
      "mimetype": "text/x-python",
      "name": "python",
      "nbconvert_exporter": "python",
      "pygments_lexer": "ipython3",
      "version": "3.8"
    },
    "kernelspec": {
      "name": "python",
      "display_name": "Python (Pyodide)",
      "language": "python"
    }
  },
  "nbformat_minor": 4,
  "nbformat": 4,
  "cells": [
    {
      "cell_type": "code",
      "source": "import numpy as np\nimport pandas as pd",
      "metadata": {
        "trusted": true
      },
      "execution_count": 2,
      "outputs": []
    },
    {
      "cell_type": "markdown",
      "source": "#My task is to create a pandas Series object that holds the cumulative miles at the end of each day\"\nThe below accumulates everything with each oncoming day.",
      "metadata": {}
    },
    {
      "cell_type": "code",
      "source": "miles = pd.Series([55, 65, 50, 45, 35, 60], index=['day1', 'day2', 'day3', 'day4', 'day5', 'day6'])\ntotal = (miles.cumsum())\nprint (total)",
      "metadata": {
        "trusted": true
      },
      "execution_count": 3,
      "outputs": [
        {
          "name": "stdout",
          "text": "day1     55\nday2    120\nday3    170\nday4    215\nday5    250\nday6    310\ndtype: int64\n",
          "output_type": "stream"
        }
      ]
    },
    {
      "cell_type": "markdown",
      "source": "#The next part should \"use your Python skills to show the total miles that you rode each day\", so a for loop that iterates over what we have above should be sufficient.",
      "metadata": {}
    },
    {
      "cell_type": "code",
      "source": "day = \"Day\"\nmiles2 = pd.Series([55, 65, 50, 45, 35, 60])\ntotal2 = (miles2.cumsum())\n\nfor key, value in total2.iteritems():\n    if (key>0):\n        subbed = value - total[key-1]\n    else:\n        subbed = value\n    print (day, key, subbed)",
      "metadata": {
        "trusted": true
      },
      "execution_count": 4,
      "outputs": [
        {
          "name": "stdout",
          "text": "Day 0 55\nDay 1 65\nDay 2 50\nDay 3 45\nDay 4 35\nDay 5 60\n",
          "output_type": "stream"
        }
      ]
    },
    {
      "cell_type": "markdown",
      "source": "#This is another alernative but it can't be easily manipulated as the one above",
      "metadata": {}
    },
    {
      "cell_type": "code",
      "source": "for key, value in total.iteritems():\n    number = miles[key]\n    print (key, number)   \n   # print (key, value)",
      "metadata": {
        "trusted": true
      },
      "execution_count": 5,
      "outputs": [
        {
          "name": "stdout",
          "text": "day1 55\nday2 65\nday3 50\nday4 45\nday5 35\nday6 60\n",
          "output_type": "stream"
        }
      ]
    },
    {
      "cell_type": "code",
      "source": "",
      "metadata": {},
      "execution_count": null,
      "outputs": []
    }
  ]
}